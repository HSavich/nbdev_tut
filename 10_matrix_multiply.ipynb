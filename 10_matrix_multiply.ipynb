{
 "cells": [
  {
   "cell_type": "code",
   "execution_count": null,
   "metadata": {},
   "outputs": [],
   "source": [
    "%load_ext autoreload\n",
    "%autoreload 2"
   ]
  },
  {
   "cell_type": "code",
   "execution_count": null,
   "metadata": {},
   "outputs": [],
   "source": [
    "# default_exp mmult"
   ]
  },
  {
   "cell_type": "markdown",
   "metadata": {},
   "source": [
    "# Matrix Multiply\n",
    "\n",
    "Multiply 2 matrices"
   ]
  },
  {
   "cell_type": "code",
   "execution_count": null,
   "metadata": {},
   "outputs": [],
   "source": [
    "#hide\n",
    "from nbdev.showdoc import *"
   ]
  },
  {
   "cell_type": "code",
   "execution_count": null,
   "metadata": {},
   "outputs": [],
   "source": [
    "import numpy as np"
   ]
  },
  {
   "cell_type": "code",
   "execution_count": null,
   "metadata": {},
   "outputs": [],
   "source": [
    "#export\n",
    "def dotp(v1, v2):\n",
    "    \"Get dot product of 2 vectors\"\n",
    "    sum = 0\n",
    "    for i in range(0, len(v1)):\n",
    "        sum += v1[i] * v2[i]\n",
    "    return sum"
   ]
  },
  {
   "cell_type": "code",
   "execution_count": null,
   "metadata": {},
   "outputs": [],
   "source": [
    "#export\n",
    "def mmult(m1, m2):\n",
    "    \"Get product of 2 matrices using [dotp](/mmult#dotp) \"\n",
    "    import numpy as np\n",
    "    assert m1.shape[1] == m2.shape[0]\n",
    "    vsize = m1.shape[1]\n",
    "    pmatrix = np.zeros((m1.shape[0],m2.shape[1]))\n",
    "    for i in range(0,m1.shape[0]):\n",
    "        for j in range(0,m2.shape[1]):\n",
    "            nv = dotp(m1[i,:], m2[:,j])\n",
    "            pmatrix[i,j] = nv\n",
    "    return pmatrix"
   ]
  },
  {
   "cell_type": "code",
   "execution_count": null,
   "metadata": {},
   "outputs": [
    {
     "data": {
      "text/markdown": [
       "<h4 id=\"dotp\" class=\"doc_header\"><code>dotp</code><a href=\"__main__.py#L2\" class=\"source_link\" style=\"float:right\">[source]</a></h4>\n",
       "\n",
       "> <code>dotp</code>(**`v1`**, **`v2`**)\n",
       "\n",
       "Get dot product of 2 vectors"
      ],
      "text/plain": [
       "<IPython.core.display.Markdown object>"
      ]
     },
     "metadata": {},
     "output_type": "display_data"
    }
   ],
   "source": [
    "show_doc(dotp)"
   ]
  }
 ],
 "metadata": {
  "kernelspec": {
   "display_name": "Python 3",
   "language": "python",
   "name": "python3"
  }
 },
 "nbformat": 4,
 "nbformat_minor": 2
}
