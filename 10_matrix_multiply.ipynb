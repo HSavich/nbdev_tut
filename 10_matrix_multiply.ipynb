{
 "cells": [
  {
   "cell_type": "code",
   "execution_count": null,
   "metadata": {},
   "outputs": [],
   "source": [
    "%load_ext autoreload\n",
    "%autoreload 2"
   ]
  },
  {
   "cell_type": "code",
   "execution_count": null,
   "metadata": {},
   "outputs": [],
   "source": [
    "# default_exp mmult"
   ]
  },
  {
   "cell_type": "markdown",
   "metadata": {},
   "source": [
    "# Matrix Multiply\n",
    "\n",
    "Multiply 2 matrices"
   ]
  },
  {
   "cell_type": "code",
   "execution_count": null,
   "metadata": {},
   "outputs": [],
   "source": [
    "#hide\n",
    "from nbdev.showdoc import *"
   ]
  },
  {
   "cell_type": "code",
   "execution_count": null,
   "metadata": {},
   "outputs": [],
   "source": [
    "import numpy as np"
   ]
  },
  {
   "cell_type": "code",
   "execution_count": null,
   "metadata": {},
   "outputs": [],
   "source": [
    "#export\n",
    "def dotp(v1, v2):\n",
    "    \"Get dot product of 2 vectors\"\n",
    "    sum = 0\n",
    "    for i in range(0, len(v1)):\n",
    "        sum += v1[i] * v2[i]\n",
    "    return sum"
   ]
  },
  {
   "cell_type": "code",
   "execution_count": null,
   "metadata": {},
   "outputs": [],
   "source": [
    "#export\n",
    "def mmult(m1, m2):\n",
    "    \"Get product of 2 matrices using [dotp](/mmult#dotp) \"\n",
    "    import numpy as np\n",
    "    assert m1.shape[1] == m2.shape[0]\n",
    "    vsize = m1.shape[1]\n",
    "    pmatrix = np.zeros((m1.shape[0],m2.shape[1]))\n",
    "    for i in range(0,m1.shape[0]):\n",
    "        for j in range(0,m2.shape[1]):\n",
    "            nv = dotp(m1[i,:], m2[:,j])\n",
    "            pmatrix[i,j] = nv\n",
    "    return pmatrix"
   ]
  },
  {
   "cell_type": "code",
   "execution_count": null,
   "metadata": {},
   "outputs": [
    {
     "name": "stdout",
     "output_type": "stream",
     "text": [
      "[[0.62355431 0.21682932]\n",
      " [0.70094478 0.9719229 ]\n",
      " [0.52716609 0.95615191]]\n",
      "[[0.25789502 0.28198555 0.68997755 0.63448045]\n",
      " [0.52373966 0.51220411 0.84693224 0.96630073]]\n",
      "[[0.27437366 0.28689417 0.61387822 0.60515535]\n",
      " [0.68980474 0.6954792  1.306789   1.38390557]\n",
      " [0.63672819 0.63839816 1.17352864 1.25840686]]\n"
     ]
    }
   ],
   "source": [
    "m1 = np.random.rand(3,2)\n",
    "m2 = np.random.rand(2,4)\n",
    "m3 = mmult(m1, m2)\n",
    "print(m1)\n",
    "print(m2)\n",
    "print(m3)"
   ]
  },
  {
   "cell_type": "code",
   "execution_count": null,
   "metadata": {},
   "outputs": [],
   "source": []
  },
  {
   "cell_type": "code",
   "execution_count": null,
   "metadata": {},
   "outputs": [],
   "source": []
  }
 ],
 "metadata": {
  "kernelspec": {
   "display_name": "Python 3",
   "language": "python",
   "name": "python3"
  }
 },
 "nbformat": 4,
 "nbformat_minor": 2
}
