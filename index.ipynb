{
 "cells": [
  {
   "cell_type": "code",
   "execution_count": null,
   "metadata": {},
   "outputs": [
    {
     "name": "stdout",
     "output_type": "stream",
     "text": [
      "The autoreload extension is already loaded. To reload it, use:\n",
      "  %reload_ext autoreload\n"
     ]
    }
   ],
   "source": [
    "%load_ext autoreload\n",
    "%autoreload 2"
   ]
  },
  {
   "cell_type": "code",
   "execution_count": null,
   "metadata": {},
   "outputs": [],
   "source": [
    "#hide\n",
    "from nbdev_template.mmult import *\n",
    "import numpy as np"
   ]
  },
  {
   "cell_type": "markdown",
   "metadata": {},
   "source": [
    "# Matrix Multiply\n",
    "\n",
    "> This is an nbdev tutorial notebook."
   ]
  },
  {
   "cell_type": "markdown",
   "metadata": {},
   "source": [
    "This file will become your README and also the index of your documentation."
   ]
  },
  {
   "cell_type": "markdown",
   "metadata": {},
   "source": [
    "## Install"
   ]
  },
  {
   "cell_type": "markdown",
   "metadata": {},
   "source": [
    "`pip install nbdev_tut`"
   ]
  },
  {
   "cell_type": "markdown",
   "metadata": {},
   "source": [
    "## How to use"
   ]
  },
  {
   "cell_type": "markdown",
   "metadata": {},
   "source": [
    "In this notebook we will multiply 2 matrices."
   ]
  },
  {
   "cell_type": "markdown",
   "metadata": {},
   "source": [
    "# Dot Product"
   ]
  },
  {
   "cell_type": "markdown",
   "metadata": {},
   "source": [
    "First, lets familiarize ourselves with the dot product, which is an operation defined between 2 one-dimensional vectors of equal length"
   ]
  },
  {
   "cell_type": "code",
   "execution_count": null,
   "metadata": {},
   "outputs": [
    {
     "name": "stdout",
     "output_type": "stream",
     "text": [
      "Vector A is [1 2 3]\n",
      "Vector B is [3 0 5]\n",
      "Vector C is [1 2 3 4]\n"
     ]
    }
   ],
   "source": [
    "vector_A = np.array([1,2,3])\n",
    "print(\"Vector A is \" + np.array2string(vector_A))\n",
    "vector_B = np.array([3,0,5])\n",
    "print(\"Vector B is \" + np.array2string(vector_B))\n",
    "vector_C = np.array([1,2,3, 4])\n",
    "print(\"Vector C is \" + np.array2string(vector_C))"
   ]
  },
  {
   "cell_type": "markdown",
   "metadata": {},
   "source": [
    "For example, of the vectors above, only A·B and B ·A are defined, because C has a different dimension than the other 2"
   ]
  },
  {
   "cell_type": "markdown",
   "metadata": {},
   "source": [
    "Now that have 2 vectors we know we can \"multiply\" using the dot product, we will look at how to do it. The dot product of 2 vectors is a **scalar** and is equal to **the sum of the scalar products of numbers in the same positions**."
   ]
  },
  {
   "cell_type": "markdown",
   "metadata": {},
   "source": [
    "So to calculate A·B, we would do A[0]\\*B[0] + A[1]\\*B[1] + A[2]\\*B[2]\n",
    "\n",
    "= 1 \\* 3 + 2 \\* 0 + 3 \\* 5 \n",
    "\n",
    "= 3 + 0 + 15\n",
    "\n",
    "= 18"
   ]
  },
  {
   "cell_type": "markdown",
   "metadata": {},
   "source": [
    "To get the dot product of 2 vectors, we can use dotp(). Let's check our answer!"
   ]
  },
  {
   "cell_type": "code",
   "execution_count": null,
   "metadata": {},
   "outputs": [
    {
     "name": "stdout",
     "output_type": "stream",
     "text": [
      "18\n"
     ]
    }
   ],
   "source": [
    "print(dotp(vector_A, vector_B))"
   ]
  },
  {
   "cell_type": "markdown",
   "metadata": {},
   "source": [
    "# Matrix Product"
   ]
  },
  {
   "cell_type": "markdown",
   "metadata": {},
   "source": [
    "Now that we know what a dot product is, we can continue to define the matrix product"
   ]
  },
  {
   "cell_type": "markdown",
   "metadata": {},
   "source": [
    "The matrix product JxK is defined for matrices J and K where the number of **columns** in J is equal to the number of **rows** in K"
   ]
  },
  {
   "cell_type": "code",
   "execution_count": null,
   "metadata": {},
   "outputs": [
    {
     "name": "stdout",
     "output_type": "stream",
     "text": [
      "J is \n",
      "[[2 4]\n",
      " [3 5]\n",
      " [0 1]]\n",
      "\n",
      " K is \n",
      "[[1 3 2 5]\n",
      " [0 4 0 1]]\n"
     ]
    }
   ],
   "source": [
    "matrix_J = np.array([[2, 4],[3, 5],[0,1]])\n",
    "print(\"J is \\n\" + np.array2string(matrix_J))\n",
    "matrix_K = np.array([[1, 3, 2, 5], [0, 4, 0 , 1]])\n",
    "print(\"\\n K is \\n\" + np.array2string(matrix_K))"
   ]
  },
  {
   "cell_type": "markdown",
   "metadata": {},
   "source": [
    "For example, above, JxK is defined because J has **2 columns** and K has **2 rows.** However, KxJ is not defined because K has **4 columns** while J has **3 rows**."
   ]
  },
  {
   "cell_type": "markdown",
   "metadata": {},
   "source": [
    "So how do we calculate the matrix product? Well if M is a matrix with *x* rows and *y* columns, and N is a matrix with *y* rows and *z* columns the product will be a matrix with *x* rows and *z* columns. In the product matrix MxN, the value in the *ith* row and the *jth* column will be the dot product of the *ith* row of M and the *jth* column."
   ]
  },
  {
   "cell_type": "markdown",
   "metadata": {},
   "source": [
    "So back to our example JxK, J has 3 rows and K has 4 columns, so JxK will be a matrix with 3 rows and 4 columns."
   ]
  },
  {
   "cell_type": "markdown",
   "metadata": {},
   "source": [
    "We won't go through the full calculation because it is lengthy even for small matrices, but we can look at just 1 value in the product matrix. (1,1) in JxK (that is, the value of JxK in the 1st row and the 1st column) will be the dot product of the 1st row of J and the 1st column of K."
   ]
  },
  {
   "cell_type": "markdown",
   "metadata": {},
   "source": [
    "JxK[0,0] = J[0,:] · K[:,0]\n",
    "\n",
    "= [2,4] · [1,0]\n",
    "\n",
    "= 2\\*1 + 4\\*0\n",
    "\n",
    "= 2 + 0\n",
    "\n",
    "= 2"
   ]
  },
  {
   "cell_type": "markdown",
   "metadata": {},
   "source": [
    "To get the matrix product we can use mmult(), so let's look at JxK"
   ]
  },
  {
   "cell_type": "code",
   "execution_count": null,
   "metadata": {},
   "outputs": [
    {
     "name": "stdout",
     "output_type": "stream",
     "text": [
      "[[ 2. 22.  4. 14.]\n",
      " [ 3. 29.  6. 20.]\n",
      " [ 0.  4.  0.  1.]]\n"
     ]
    }
   ],
   "source": [
    "print(mmult(matrix_J, matrix_K))"
   ]
  },
  {
   "cell_type": "markdown",
   "metadata": {},
   "source": [
    "As we can see, like we expected, the resultant matrix has 3 rows and 4 columns, and the element in the 1st column and 1st row is 2"
   ]
  }
 ],
 "metadata": {
  "kernelspec": {
   "display_name": "Python 3",
   "language": "python",
   "name": "python3"
  }
 },
 "nbformat": 4,
 "nbformat_minor": 2
}
